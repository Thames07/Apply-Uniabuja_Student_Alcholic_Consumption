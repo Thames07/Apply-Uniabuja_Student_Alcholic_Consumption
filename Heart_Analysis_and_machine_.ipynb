{
  "nbformat": 4,
  "nbformat_minor": 0,
  "metadata": {
    "colab": {
      "name": "Heart Analysis and machine .ipynb",
      "provenance": [],
      "mount_file_id": "1DTZqn39-wlqIwQurEq1qjQDKPxHOKqfD",
      "authorship_tag": "ABX9TyO8fpUZWRajHpeel3n6A1HP",
      "include_colab_link": true
    },
    "kernelspec": {
      "name": "python3",
      "display_name": "Python 3"
    },
    "language_info": {
      "name": "python"
    }
  },
  "cells": [
    {
      "cell_type": "markdown",
      "metadata": {
        "id": "view-in-github",
        "colab_type": "text"
      },
      "source": [
        "<a href=\"https://colab.research.google.com/github/Thames07/Apply-Uniabuja_Student_Alcholic_Consumption/blob/main/Heart_Analysis_and_machine_.ipynb\" target=\"_parent\"><img src=\"https://colab.research.google.com/assets/colab-badge.svg\" alt=\"Open In Colab\"/></a>"
      ]
    },
    {
      "cell_type": "markdown",
      "source": [
        "#### Importing the Libraries"
      ],
      "metadata": {
        "id": "mvLuUNz8CCVQ"
      }
    },
    {
      "cell_type": "code",
      "source": [
        "import pandas as pd\n",
        "import numpy as np\n",
        "import matplotlib.pyplot as plt\n",
        "import seaborn as sns\n",
        "import warnings\n",
        "warnings.filterwarnings('ignore')"
      ],
      "metadata": {
        "id": "B_ErK1F4CGZ0"
      },
      "execution_count": 1,
      "outputs": []
    },
    {
      "cell_type": "markdown",
      "source": [
        "#### Importing DataSet"
      ],
      "metadata": {
        "id": "yBlYEu2_CgWY"
      }
    },
    {
      "cell_type": "code",
      "source": [
        "data = pd.read_csv(\"/content/drive/MyDrive/heart.csv\")\n",
        "data.head(10)"
      ],
      "metadata": {
        "colab": {
          "base_uri": "https://localhost:8080/",
          "height": 427
        },
        "id": "L6NQiZ_fClVD",
        "outputId": "c66aa586-f894-4f43-df7b-b973888286e0"
      },
      "execution_count": 2,
      "outputs": [
        {
          "output_type": "execute_result",
          "data": {
            "text/plain": [
              "   age  sex  cp  trtbps  chol  fbs  restecg  thalachh  exng  oldpeak  slp  \\\n",
              "0   63    1   3     145   233    1        0       150     0      2.3    0   \n",
              "1   37    1   2     130   250    0        1       187     0      3.5    0   \n",
              "2   41    0   1     130   204    0        0       172     0      1.4    2   \n",
              "3   56    1   1     120   236    0        1       178     0      0.8    2   \n",
              "4   57    0   0     120   354    0        1       163     1      0.6    2   \n",
              "5   57    1   0     140   192    0        1       148     0      0.4    1   \n",
              "6   56    0   1     140   294    0        0       153     0      1.3    1   \n",
              "7   44    1   1     120   263    0        1       173     0      0.0    2   \n",
              "8   52    1   2     172   199    1        1       162     0      0.5    2   \n",
              "9   57    1   2     150   168    0        1       174     0      1.6    2   \n",
              "\n",
              "   caa  thall  output  \n",
              "0    0      1       1  \n",
              "1    0      2       1  \n",
              "2    0      2       1  \n",
              "3    0      2       1  \n",
              "4    0      2       1  \n",
              "5    0      1       1  \n",
              "6    0      2       1  \n",
              "7    0      3       1  \n",
              "8    0      3       1  \n",
              "9    0      2       1  "
            ],
            "text/html": [
              "\n",
              "  <div id=\"df-b4fad499-7ade-42e3-a4b5-1ea6e96b2a5c\">\n",
              "    <div class=\"colab-df-container\">\n",
              "      <div>\n",
              "<style scoped>\n",
              "    .dataframe tbody tr th:only-of-type {\n",
              "        vertical-align: middle;\n",
              "    }\n",
              "\n",
              "    .dataframe tbody tr th {\n",
              "        vertical-align: top;\n",
              "    }\n",
              "\n",
              "    .dataframe thead th {\n",
              "        text-align: right;\n",
              "    }\n",
              "</style>\n",
              "<table border=\"1\" class=\"dataframe\">\n",
              "  <thead>\n",
              "    <tr style=\"text-align: right;\">\n",
              "      <th></th>\n",
              "      <th>age</th>\n",
              "      <th>sex</th>\n",
              "      <th>cp</th>\n",
              "      <th>trtbps</th>\n",
              "      <th>chol</th>\n",
              "      <th>fbs</th>\n",
              "      <th>restecg</th>\n",
              "      <th>thalachh</th>\n",
              "      <th>exng</th>\n",
              "      <th>oldpeak</th>\n",
              "      <th>slp</th>\n",
              "      <th>caa</th>\n",
              "      <th>thall</th>\n",
              "      <th>output</th>\n",
              "    </tr>\n",
              "  </thead>\n",
              "  <tbody>\n",
              "    <tr>\n",
              "      <th>0</th>\n",
              "      <td>63</td>\n",
              "      <td>1</td>\n",
              "      <td>3</td>\n",
              "      <td>145</td>\n",
              "      <td>233</td>\n",
              "      <td>1</td>\n",
              "      <td>0</td>\n",
              "      <td>150</td>\n",
              "      <td>0</td>\n",
              "      <td>2.3</td>\n",
              "      <td>0</td>\n",
              "      <td>0</td>\n",
              "      <td>1</td>\n",
              "      <td>1</td>\n",
              "    </tr>\n",
              "    <tr>\n",
              "      <th>1</th>\n",
              "      <td>37</td>\n",
              "      <td>1</td>\n",
              "      <td>2</td>\n",
              "      <td>130</td>\n",
              "      <td>250</td>\n",
              "      <td>0</td>\n",
              "      <td>1</td>\n",
              "      <td>187</td>\n",
              "      <td>0</td>\n",
              "      <td>3.5</td>\n",
              "      <td>0</td>\n",
              "      <td>0</td>\n",
              "      <td>2</td>\n",
              "      <td>1</td>\n",
              "    </tr>\n",
              "    <tr>\n",
              "      <th>2</th>\n",
              "      <td>41</td>\n",
              "      <td>0</td>\n",
              "      <td>1</td>\n",
              "      <td>130</td>\n",
              "      <td>204</td>\n",
              "      <td>0</td>\n",
              "      <td>0</td>\n",
              "      <td>172</td>\n",
              "      <td>0</td>\n",
              "      <td>1.4</td>\n",
              "      <td>2</td>\n",
              "      <td>0</td>\n",
              "      <td>2</td>\n",
              "      <td>1</td>\n",
              "    </tr>\n",
              "    <tr>\n",
              "      <th>3</th>\n",
              "      <td>56</td>\n",
              "      <td>1</td>\n",
              "      <td>1</td>\n",
              "      <td>120</td>\n",
              "      <td>236</td>\n",
              "      <td>0</td>\n",
              "      <td>1</td>\n",
              "      <td>178</td>\n",
              "      <td>0</td>\n",
              "      <td>0.8</td>\n",
              "      <td>2</td>\n",
              "      <td>0</td>\n",
              "      <td>2</td>\n",
              "      <td>1</td>\n",
              "    </tr>\n",
              "    <tr>\n",
              "      <th>4</th>\n",
              "      <td>57</td>\n",
              "      <td>0</td>\n",
              "      <td>0</td>\n",
              "      <td>120</td>\n",
              "      <td>354</td>\n",
              "      <td>0</td>\n",
              "      <td>1</td>\n",
              "      <td>163</td>\n",
              "      <td>1</td>\n",
              "      <td>0.6</td>\n",
              "      <td>2</td>\n",
              "      <td>0</td>\n",
              "      <td>2</td>\n",
              "      <td>1</td>\n",
              "    </tr>\n",
              "    <tr>\n",
              "      <th>5</th>\n",
              "      <td>57</td>\n",
              "      <td>1</td>\n",
              "      <td>0</td>\n",
              "      <td>140</td>\n",
              "      <td>192</td>\n",
              "      <td>0</td>\n",
              "      <td>1</td>\n",
              "      <td>148</td>\n",
              "      <td>0</td>\n",
              "      <td>0.4</td>\n",
              "      <td>1</td>\n",
              "      <td>0</td>\n",
              "      <td>1</td>\n",
              "      <td>1</td>\n",
              "    </tr>\n",
              "    <tr>\n",
              "      <th>6</th>\n",
              "      <td>56</td>\n",
              "      <td>0</td>\n",
              "      <td>1</td>\n",
              "      <td>140</td>\n",
              "      <td>294</td>\n",
              "      <td>0</td>\n",
              "      <td>0</td>\n",
              "      <td>153</td>\n",
              "      <td>0</td>\n",
              "      <td>1.3</td>\n",
              "      <td>1</td>\n",
              "      <td>0</td>\n",
              "      <td>2</td>\n",
              "      <td>1</td>\n",
              "    </tr>\n",
              "    <tr>\n",
              "      <th>7</th>\n",
              "      <td>44</td>\n",
              "      <td>1</td>\n",
              "      <td>1</td>\n",
              "      <td>120</td>\n",
              "      <td>263</td>\n",
              "      <td>0</td>\n",
              "      <td>1</td>\n",
              "      <td>173</td>\n",
              "      <td>0</td>\n",
              "      <td>0.0</td>\n",
              "      <td>2</td>\n",
              "      <td>0</td>\n",
              "      <td>3</td>\n",
              "      <td>1</td>\n",
              "    </tr>\n",
              "    <tr>\n",
              "      <th>8</th>\n",
              "      <td>52</td>\n",
              "      <td>1</td>\n",
              "      <td>2</td>\n",
              "      <td>172</td>\n",
              "      <td>199</td>\n",
              "      <td>1</td>\n",
              "      <td>1</td>\n",
              "      <td>162</td>\n",
              "      <td>0</td>\n",
              "      <td>0.5</td>\n",
              "      <td>2</td>\n",
              "      <td>0</td>\n",
              "      <td>3</td>\n",
              "      <td>1</td>\n",
              "    </tr>\n",
              "    <tr>\n",
              "      <th>9</th>\n",
              "      <td>57</td>\n",
              "      <td>1</td>\n",
              "      <td>2</td>\n",
              "      <td>150</td>\n",
              "      <td>168</td>\n",
              "      <td>0</td>\n",
              "      <td>1</td>\n",
              "      <td>174</td>\n",
              "      <td>0</td>\n",
              "      <td>1.6</td>\n",
              "      <td>2</td>\n",
              "      <td>0</td>\n",
              "      <td>2</td>\n",
              "      <td>1</td>\n",
              "    </tr>\n",
              "  </tbody>\n",
              "</table>\n",
              "</div>\n",
              "      <button class=\"colab-df-convert\" onclick=\"convertToInteractive('df-b4fad499-7ade-42e3-a4b5-1ea6e96b2a5c')\"\n",
              "              title=\"Convert this dataframe to an interactive table.\"\n",
              "              style=\"display:none;\">\n",
              "        \n",
              "  <svg xmlns=\"http://www.w3.org/2000/svg\" height=\"24px\"viewBox=\"0 0 24 24\"\n",
              "       width=\"24px\">\n",
              "    <path d=\"M0 0h24v24H0V0z\" fill=\"none\"/>\n",
              "    <path d=\"M18.56 5.44l.94 2.06.94-2.06 2.06-.94-2.06-.94-.94-2.06-.94 2.06-2.06.94zm-11 1L8.5 8.5l.94-2.06 2.06-.94-2.06-.94L8.5 2.5l-.94 2.06-2.06.94zm10 10l.94 2.06.94-2.06 2.06-.94-2.06-.94-.94-2.06-.94 2.06-2.06.94z\"/><path d=\"M17.41 7.96l-1.37-1.37c-.4-.4-.92-.59-1.43-.59-.52 0-1.04.2-1.43.59L10.3 9.45l-7.72 7.72c-.78.78-.78 2.05 0 2.83L4 21.41c.39.39.9.59 1.41.59.51 0 1.02-.2 1.41-.59l7.78-7.78 2.81-2.81c.8-.78.8-2.07 0-2.86zM5.41 20L4 18.59l7.72-7.72 1.47 1.35L5.41 20z\"/>\n",
              "  </svg>\n",
              "      </button>\n",
              "      \n",
              "  <style>\n",
              "    .colab-df-container {\n",
              "      display:flex;\n",
              "      flex-wrap:wrap;\n",
              "      gap: 12px;\n",
              "    }\n",
              "\n",
              "    .colab-df-convert {\n",
              "      background-color: #E8F0FE;\n",
              "      border: none;\n",
              "      border-radius: 50%;\n",
              "      cursor: pointer;\n",
              "      display: none;\n",
              "      fill: #1967D2;\n",
              "      height: 32px;\n",
              "      padding: 0 0 0 0;\n",
              "      width: 32px;\n",
              "    }\n",
              "\n",
              "    .colab-df-convert:hover {\n",
              "      background-color: #E2EBFA;\n",
              "      box-shadow: 0px 1px 2px rgba(60, 64, 67, 0.3), 0px 1px 3px 1px rgba(60, 64, 67, 0.15);\n",
              "      fill: #174EA6;\n",
              "    }\n",
              "\n",
              "    [theme=dark] .colab-df-convert {\n",
              "      background-color: #3B4455;\n",
              "      fill: #D2E3FC;\n",
              "    }\n",
              "\n",
              "    [theme=dark] .colab-df-convert:hover {\n",
              "      background-color: #434B5C;\n",
              "      box-shadow: 0px 1px 3px 1px rgba(0, 0, 0, 0.15);\n",
              "      filter: drop-shadow(0px 1px 2px rgba(0, 0, 0, 0.3));\n",
              "      fill: #FFFFFF;\n",
              "    }\n",
              "  </style>\n",
              "\n",
              "      <script>\n",
              "        const buttonEl =\n",
              "          document.querySelector('#df-b4fad499-7ade-42e3-a4b5-1ea6e96b2a5c button.colab-df-convert');\n",
              "        buttonEl.style.display =\n",
              "          google.colab.kernel.accessAllowed ? 'block' : 'none';\n",
              "\n",
              "        async function convertToInteractive(key) {\n",
              "          const element = document.querySelector('#df-b4fad499-7ade-42e3-a4b5-1ea6e96b2a5c');\n",
              "          const dataTable =\n",
              "            await google.colab.kernel.invokeFunction('convertToInteractive',\n",
              "                                                     [key], {});\n",
              "          if (!dataTable) return;\n",
              "\n",
              "          const docLinkHtml = 'Like what you see? Visit the ' +\n",
              "            '<a target=\"_blank\" href=https://colab.research.google.com/notebooks/data_table.ipynb>data table notebook</a>'\n",
              "            + ' to learn more about interactive tables.';\n",
              "          element.innerHTML = '';\n",
              "          dataTable['output_type'] = 'display_data';\n",
              "          await google.colab.output.renderOutput(dataTable, element);\n",
              "          const docLink = document.createElement('div');\n",
              "          docLink.innerHTML = docLinkHtml;\n",
              "          element.appendChild(docLink);\n",
              "        }\n",
              "      </script>\n",
              "    </div>\n",
              "  </div>\n",
              "  "
            ]
          },
          "metadata": {},
          "execution_count": 2
        }
      ]
    },
    {
      "cell_type": "code",
      "source": [
        "data.shape"
      ],
      "metadata": {
        "colab": {
          "base_uri": "https://localhost:8080/",
          "height": 0
        },
        "id": "WEVoIKjBCx-n",
        "outputId": "0ee6d10b-fe2d-490f-fb89-2d93149ea0f7"
      },
      "execution_count": 3,
      "outputs": [
        {
          "output_type": "execute_result",
          "data": {
            "text/plain": [
              "(303, 14)"
            ]
          },
          "metadata": {},
          "execution_count": 3
        }
      ]
    },
    {
      "cell_type": "code",
      "source": [
        "data.isna().sum()"
      ],
      "metadata": {
        "colab": {
          "base_uri": "https://localhost:8080/",
          "height": 0
        },
        "id": "pwRnPIpyC7qK",
        "outputId": "17b0f5be-72d0-4c6d-dbda-7035fd3afcb6"
      },
      "execution_count": 4,
      "outputs": [
        {
          "output_type": "execute_result",
          "data": {
            "text/plain": [
              "age         0\n",
              "sex         0\n",
              "cp          0\n",
              "trtbps      0\n",
              "chol        0\n",
              "fbs         0\n",
              "restecg     0\n",
              "thalachh    0\n",
              "exng        0\n",
              "oldpeak     0\n",
              "slp         0\n",
              "caa         0\n",
              "thall       0\n",
              "output      0\n",
              "dtype: int64"
            ]
          },
          "metadata": {},
          "execution_count": 4
        }
      ]
    },
    {
      "cell_type": "code",
      "source": [
        "data.number"
      ],
      "metadata": {
        "colab": {
          "base_uri": "https://localhost:8080/",
          "height": 0
        },
        "id": "EKgYYHZOEmAP",
        "outputId": "fb80108f-7068-457b-af2a-ba8f905f015b"
      },
      "execution_count": 13,
      "outputs": [
        {
          "output_type": "execute_result",
          "data": {
            "text/plain": [
              "0      1\n",
              "1      1\n",
              "2      1\n",
              "3      1\n",
              "4      1\n",
              "      ..\n",
              "298    1\n",
              "299    1\n",
              "300    1\n",
              "301    1\n",
              "302    1\n",
              "Name: number, Length: 303, dtype: int64"
            ]
          },
          "metadata": {},
          "execution_count": 13
        }
      ]
    },
    {
      "cell_type": "code",
      "source": [
        "data.info()"
      ],
      "metadata": {
        "colab": {
          "base_uri": "https://localhost:8080/",
          "height": 0
        },
        "id": "QvPb4W6GDGy2",
        "outputId": "bad3fde9-bf3c-4997-a8ce-bc236a7acbae"
      },
      "execution_count": 12,
      "outputs": [
        {
          "output_type": "stream",
          "name": "stdout",
          "text": [
            "<class 'pandas.core.frame.DataFrame'>\n",
            "RangeIndex: 303 entries, 0 to 302\n",
            "Data columns (total 15 columns):\n",
            " #   Column    Non-Null Count  Dtype  \n",
            "---  ------    --------------  -----  \n",
            " 0   age       303 non-null    int64  \n",
            " 1   sex       303 non-null    int64  \n",
            " 2   cp        303 non-null    int64  \n",
            " 3   trtbps    303 non-null    int64  \n",
            " 4   chol      303 non-null    int64  \n",
            " 5   fbs       303 non-null    int64  \n",
            " 6   restecg   303 non-null    int64  \n",
            " 7   thalachh  303 non-null    int64  \n",
            " 8   exng      303 non-null    int64  \n",
            " 9   oldpeak   303 non-null    float64\n",
            " 10  slp       303 non-null    int64  \n",
            " 11  caa       303 non-null    int64  \n",
            " 12  thall     303 non-null    int64  \n",
            " 13  output    303 non-null    int64  \n",
            " 14  number    303 non-null    int64  \n",
            "dtypes: float64(1), int64(14)\n",
            "memory usage: 35.6 KB\n"
          ]
        }
      ]
    },
    {
      "cell_type": "code",
      "source": [
        "data.columns = data.columns.str.strip()"
      ],
      "metadata": {
        "id": "hOMKICrBEyip"
      },
      "execution_count": 8,
      "outputs": []
    },
    {
      "cell_type": "code",
      "source": [
        "data.describe().transpose()"
      ],
      "metadata": {
        "colab": {
          "base_uri": "https://localhost:8080/",
          "height": 519
        },
        "id": "HUwTkEk5DLCQ",
        "outputId": "ea5249ee-2c1d-4cc8-8dd6-aaff2269f815"
      },
      "execution_count": 11,
      "outputs": [
        {
          "output_type": "execute_result",
          "data": {
            "text/plain": [
              "          count        mean        std    min    25%    50%    75%    max\n",
              "age       303.0   54.366337   9.082101   29.0   47.5   55.0   61.0   77.0\n",
              "sex       303.0    0.683168   0.466011    0.0    0.0    1.0    1.0    1.0\n",
              "cp        303.0    0.966997   1.032052    0.0    0.0    1.0    2.0    3.0\n",
              "trtbps    303.0  131.623762  17.538143   94.0  120.0  130.0  140.0  200.0\n",
              "chol      303.0  246.264026  51.830751  126.0  211.0  240.0  274.5  564.0\n",
              "fbs       303.0    0.148515   0.356198    0.0    0.0    0.0    0.0    1.0\n",
              "restecg   303.0    0.528053   0.525860    0.0    0.0    1.0    1.0    2.0\n",
              "thalachh  303.0  149.646865  22.905161   71.0  133.5  153.0  166.0  202.0\n",
              "exng      303.0    0.326733   0.469794    0.0    0.0    0.0    1.0    1.0\n",
              "oldpeak   303.0    1.039604   1.161075    0.0    0.0    0.8    1.6    6.2\n",
              "slp       303.0    1.399340   0.616226    0.0    1.0    1.0    2.0    2.0\n",
              "caa       303.0    0.729373   1.022606    0.0    0.0    0.0    1.0    4.0\n",
              "thall     303.0    2.313531   0.612277    0.0    2.0    2.0    3.0    3.0\n",
              "output    303.0    0.544554   0.498835    0.0    0.0    1.0    1.0    1.0\n",
              "number    303.0    1.000000   0.000000    1.0    1.0    1.0    1.0    1.0"
            ],
            "text/html": [
              "\n",
              "  <div id=\"df-662caacd-1568-4980-81c2-c90b133e13bb\">\n",
              "    <div class=\"colab-df-container\">\n",
              "      <div>\n",
              "<style scoped>\n",
              "    .dataframe tbody tr th:only-of-type {\n",
              "        vertical-align: middle;\n",
              "    }\n",
              "\n",
              "    .dataframe tbody tr th {\n",
              "        vertical-align: top;\n",
              "    }\n",
              "\n",
              "    .dataframe thead th {\n",
              "        text-align: right;\n",
              "    }\n",
              "</style>\n",
              "<table border=\"1\" class=\"dataframe\">\n",
              "  <thead>\n",
              "    <tr style=\"text-align: right;\">\n",
              "      <th></th>\n",
              "      <th>count</th>\n",
              "      <th>mean</th>\n",
              "      <th>std</th>\n",
              "      <th>min</th>\n",
              "      <th>25%</th>\n",
              "      <th>50%</th>\n",
              "      <th>75%</th>\n",
              "      <th>max</th>\n",
              "    </tr>\n",
              "  </thead>\n",
              "  <tbody>\n",
              "    <tr>\n",
              "      <th>age</th>\n",
              "      <td>303.0</td>\n",
              "      <td>54.366337</td>\n",
              "      <td>9.082101</td>\n",
              "      <td>29.0</td>\n",
              "      <td>47.5</td>\n",
              "      <td>55.0</td>\n",
              "      <td>61.0</td>\n",
              "      <td>77.0</td>\n",
              "    </tr>\n",
              "    <tr>\n",
              "      <th>sex</th>\n",
              "      <td>303.0</td>\n",
              "      <td>0.683168</td>\n",
              "      <td>0.466011</td>\n",
              "      <td>0.0</td>\n",
              "      <td>0.0</td>\n",
              "      <td>1.0</td>\n",
              "      <td>1.0</td>\n",
              "      <td>1.0</td>\n",
              "    </tr>\n",
              "    <tr>\n",
              "      <th>cp</th>\n",
              "      <td>303.0</td>\n",
              "      <td>0.966997</td>\n",
              "      <td>1.032052</td>\n",
              "      <td>0.0</td>\n",
              "      <td>0.0</td>\n",
              "      <td>1.0</td>\n",
              "      <td>2.0</td>\n",
              "      <td>3.0</td>\n",
              "    </tr>\n",
              "    <tr>\n",
              "      <th>trtbps</th>\n",
              "      <td>303.0</td>\n",
              "      <td>131.623762</td>\n",
              "      <td>17.538143</td>\n",
              "      <td>94.0</td>\n",
              "      <td>120.0</td>\n",
              "      <td>130.0</td>\n",
              "      <td>140.0</td>\n",
              "      <td>200.0</td>\n",
              "    </tr>\n",
              "    <tr>\n",
              "      <th>chol</th>\n",
              "      <td>303.0</td>\n",
              "      <td>246.264026</td>\n",
              "      <td>51.830751</td>\n",
              "      <td>126.0</td>\n",
              "      <td>211.0</td>\n",
              "      <td>240.0</td>\n",
              "      <td>274.5</td>\n",
              "      <td>564.0</td>\n",
              "    </tr>\n",
              "    <tr>\n",
              "      <th>fbs</th>\n",
              "      <td>303.0</td>\n",
              "      <td>0.148515</td>\n",
              "      <td>0.356198</td>\n",
              "      <td>0.0</td>\n",
              "      <td>0.0</td>\n",
              "      <td>0.0</td>\n",
              "      <td>0.0</td>\n",
              "      <td>1.0</td>\n",
              "    </tr>\n",
              "    <tr>\n",
              "      <th>restecg</th>\n",
              "      <td>303.0</td>\n",
              "      <td>0.528053</td>\n",
              "      <td>0.525860</td>\n",
              "      <td>0.0</td>\n",
              "      <td>0.0</td>\n",
              "      <td>1.0</td>\n",
              "      <td>1.0</td>\n",
              "      <td>2.0</td>\n",
              "    </tr>\n",
              "    <tr>\n",
              "      <th>thalachh</th>\n",
              "      <td>303.0</td>\n",
              "      <td>149.646865</td>\n",
              "      <td>22.905161</td>\n",
              "      <td>71.0</td>\n",
              "      <td>133.5</td>\n",
              "      <td>153.0</td>\n",
              "      <td>166.0</td>\n",
              "      <td>202.0</td>\n",
              "    </tr>\n",
              "    <tr>\n",
              "      <th>exng</th>\n",
              "      <td>303.0</td>\n",
              "      <td>0.326733</td>\n",
              "      <td>0.469794</td>\n",
              "      <td>0.0</td>\n",
              "      <td>0.0</td>\n",
              "      <td>0.0</td>\n",
              "      <td>1.0</td>\n",
              "      <td>1.0</td>\n",
              "    </tr>\n",
              "    <tr>\n",
              "      <th>oldpeak</th>\n",
              "      <td>303.0</td>\n",
              "      <td>1.039604</td>\n",
              "      <td>1.161075</td>\n",
              "      <td>0.0</td>\n",
              "      <td>0.0</td>\n",
              "      <td>0.8</td>\n",
              "      <td>1.6</td>\n",
              "      <td>6.2</td>\n",
              "    </tr>\n",
              "    <tr>\n",
              "      <th>slp</th>\n",
              "      <td>303.0</td>\n",
              "      <td>1.399340</td>\n",
              "      <td>0.616226</td>\n",
              "      <td>0.0</td>\n",
              "      <td>1.0</td>\n",
              "      <td>1.0</td>\n",
              "      <td>2.0</td>\n",
              "      <td>2.0</td>\n",
              "    </tr>\n",
              "    <tr>\n",
              "      <th>caa</th>\n",
              "      <td>303.0</td>\n",
              "      <td>0.729373</td>\n",
              "      <td>1.022606</td>\n",
              "      <td>0.0</td>\n",
              "      <td>0.0</td>\n",
              "      <td>0.0</td>\n",
              "      <td>1.0</td>\n",
              "      <td>4.0</td>\n",
              "    </tr>\n",
              "    <tr>\n",
              "      <th>thall</th>\n",
              "      <td>303.0</td>\n",
              "      <td>2.313531</td>\n",
              "      <td>0.612277</td>\n",
              "      <td>0.0</td>\n",
              "      <td>2.0</td>\n",
              "      <td>2.0</td>\n",
              "      <td>3.0</td>\n",
              "      <td>3.0</td>\n",
              "    </tr>\n",
              "    <tr>\n",
              "      <th>output</th>\n",
              "      <td>303.0</td>\n",
              "      <td>0.544554</td>\n",
              "      <td>0.498835</td>\n",
              "      <td>0.0</td>\n",
              "      <td>0.0</td>\n",
              "      <td>1.0</td>\n",
              "      <td>1.0</td>\n",
              "      <td>1.0</td>\n",
              "    </tr>\n",
              "    <tr>\n",
              "      <th>number</th>\n",
              "      <td>303.0</td>\n",
              "      <td>1.000000</td>\n",
              "      <td>0.000000</td>\n",
              "      <td>1.0</td>\n",
              "      <td>1.0</td>\n",
              "      <td>1.0</td>\n",
              "      <td>1.0</td>\n",
              "      <td>1.0</td>\n",
              "    </tr>\n",
              "  </tbody>\n",
              "</table>\n",
              "</div>\n",
              "      <button class=\"colab-df-convert\" onclick=\"convertToInteractive('df-662caacd-1568-4980-81c2-c90b133e13bb')\"\n",
              "              title=\"Convert this dataframe to an interactive table.\"\n",
              "              style=\"display:none;\">\n",
              "        \n",
              "  <svg xmlns=\"http://www.w3.org/2000/svg\" height=\"24px\"viewBox=\"0 0 24 24\"\n",
              "       width=\"24px\">\n",
              "    <path d=\"M0 0h24v24H0V0z\" fill=\"none\"/>\n",
              "    <path d=\"M18.56 5.44l.94 2.06.94-2.06 2.06-.94-2.06-.94-.94-2.06-.94 2.06-2.06.94zm-11 1L8.5 8.5l.94-2.06 2.06-.94-2.06-.94L8.5 2.5l-.94 2.06-2.06.94zm10 10l.94 2.06.94-2.06 2.06-.94-2.06-.94-.94-2.06-.94 2.06-2.06.94z\"/><path d=\"M17.41 7.96l-1.37-1.37c-.4-.4-.92-.59-1.43-.59-.52 0-1.04.2-1.43.59L10.3 9.45l-7.72 7.72c-.78.78-.78 2.05 0 2.83L4 21.41c.39.39.9.59 1.41.59.51 0 1.02-.2 1.41-.59l7.78-7.78 2.81-2.81c.8-.78.8-2.07 0-2.86zM5.41 20L4 18.59l7.72-7.72 1.47 1.35L5.41 20z\"/>\n",
              "  </svg>\n",
              "      </button>\n",
              "      \n",
              "  <style>\n",
              "    .colab-df-container {\n",
              "      display:flex;\n",
              "      flex-wrap:wrap;\n",
              "      gap: 12px;\n",
              "    }\n",
              "\n",
              "    .colab-df-convert {\n",
              "      background-color: #E8F0FE;\n",
              "      border: none;\n",
              "      border-radius: 50%;\n",
              "      cursor: pointer;\n",
              "      display: none;\n",
              "      fill: #1967D2;\n",
              "      height: 32px;\n",
              "      padding: 0 0 0 0;\n",
              "      width: 32px;\n",
              "    }\n",
              "\n",
              "    .colab-df-convert:hover {\n",
              "      background-color: #E2EBFA;\n",
              "      box-shadow: 0px 1px 2px rgba(60, 64, 67, 0.3), 0px 1px 3px 1px rgba(60, 64, 67, 0.15);\n",
              "      fill: #174EA6;\n",
              "    }\n",
              "\n",
              "    [theme=dark] .colab-df-convert {\n",
              "      background-color: #3B4455;\n",
              "      fill: #D2E3FC;\n",
              "    }\n",
              "\n",
              "    [theme=dark] .colab-df-convert:hover {\n",
              "      background-color: #434B5C;\n",
              "      box-shadow: 0px 1px 3px 1px rgba(0, 0, 0, 0.15);\n",
              "      filter: drop-shadow(0px 1px 2px rgba(0, 0, 0, 0.3));\n",
              "      fill: #FFFFFF;\n",
              "    }\n",
              "  </style>\n",
              "\n",
              "      <script>\n",
              "        const buttonEl =\n",
              "          document.querySelector('#df-662caacd-1568-4980-81c2-c90b133e13bb button.colab-df-convert');\n",
              "        buttonEl.style.display =\n",
              "          google.colab.kernel.accessAllowed ? 'block' : 'none';\n",
              "\n",
              "        async function convertToInteractive(key) {\n",
              "          const element = document.querySelector('#df-662caacd-1568-4980-81c2-c90b133e13bb');\n",
              "          const dataTable =\n",
              "            await google.colab.kernel.invokeFunction('convertToInteractive',\n",
              "                                                     [key], {});\n",
              "          if (!dataTable) return;\n",
              "\n",
              "          const docLinkHtml = 'Like what you see? Visit the ' +\n",
              "            '<a target=\"_blank\" href=https://colab.research.google.com/notebooks/data_table.ipynb>data table notebook</a>'\n",
              "            + ' to learn more about interactive tables.';\n",
              "          element.innerHTML = '';\n",
              "          dataTable['output_type'] = 'display_data';\n",
              "          await google.colab.output.renderOutput(dataTable, element);\n",
              "          const docLink = document.createElement('div');\n",
              "          docLink.innerHTML = docLinkHtml;\n",
              "          element.appendChild(docLink);\n",
              "        }\n",
              "      </script>\n",
              "    </div>\n",
              "  </div>\n",
              "  "
            ]
          },
          "metadata": {},
          "execution_count": 11
        }
      ]
    },
    {
      "cell_type": "markdown",
      "source": [
        "#### Using the Dataset for Visualization"
      ],
      "metadata": {
        "id": "9TJhJtP8DSlu"
      }
    },
    {
      "cell_type": "code",
      "source": [
        "data[\"number\"]=np.ones(len(data)).astype(\"int64\",copy=True) #I ADDED A COLUMN WHICH CONSIST OF ONES \n",
        "data1=data.groupby([\"age\"]).sum().reset_index()\n",
        "plt.figure(figsize=(15,15))\n",
        "sns.barplot(x=data1.age,y=data1.number,data=data1)\n",
        "plt.xlabel(\"AGE\")\n",
        "plt.ylabel(\"DEATH PEOPLE\")\n",
        "plt.title(\"NUMBER OF HEART ATTACKED BY AGE \")\n",
        "plt.show()"
      ],
      "metadata": {
        "colab": {
          "base_uri": "https://localhost:8080/",
          "height": 632
        },
        "id": "cm3PNMl4E5vP",
        "outputId": "6b96bb75-1c9a-4972-ee2d-a78f66130ade"
      },
      "execution_count": 10,
      "outputs": [
        {
          "output_type": "display_data",
          "data": {
            "text/plain": [
              "<Figure size 1080x1080 with 1 Axes>"
            ],
            "image/png": "[encoded data removed]"
          },
          "metadata": {
            "needs_background": "light"
          }
        }
      ]
    },
    {
      "cell_type": "markdown",
      "source": [
        "TABLE SHOW US HEART ATTACK BY AGE, WE CAN SEE BETWEEN 50 AND 60 AGE OF PEOPLE HAD HEART ATTACKS MORE"
      ],
      "metadata": {
        "id": "VEk9PWohFFRg"
      }
    },
    {
      "cell_type": "code",
      "source": [
        "data1=data[data[\"output\"]==1].groupby([\"age\"]).sum().reset_index()\n",
        "plt.figure(figsize=(15,15))\n",
        "sns.barplot(x=data1.age,y=data1.number,data=data1)\n",
        "plt.xlabel(\"AGE\")\n",
        "plt.ylabel(\"DEATH PEOPLE\")\n",
        "plt.title(\"NUMBER OF DEATH ATTACKED BY AGE \")\n",
        "plt.show()"
      ],
      "metadata": {
        "colab": {
          "base_uri": "https://localhost:8080/",
          "height": 638
        },
        "id": "-16Xj0DNFGHP",
        "outputId": "818135b2-6870-43e2-95b1-975b5c6c30f3"
      },
      "execution_count": 14,
      "outputs": [
        {
          "output_type": "display_data",
          "data": {
            "text/plain": [
              "<Figure size 1080x1080 with 1 Axes>"
            ],
            "image/png": "[encoded data removed]"
          },
          "metadata": {
            "needs_background": "light"
          }
        }
      ]
    },
    {
      "cell_type": "markdown",
      "source": [
        "CAN SEE AGAIN BETWEEN 50 AND 60 AGE OF PEOPLE DIED DUE TO HEART ATTACK."
      ],
      "metadata": {
        "id": "m9cwacSrFh_s"
      }
    },
    {
      "cell_type": "code",
      "source": [
        "data1=data[data[\"output\"]==0].groupby([\"sex\"]).sum().reset_index()[[\"sex\",\"number\"]]\n",
        "data2=data[data[\"output\"]==1].groupby([\"sex\"]).sum().reset_index()[[\"sex\",\"number\"]]"
      ],
      "metadata": {
        "id": "3LeqWmQQFixo"
      },
      "execution_count": 15,
      "outputs": []
    },
    {
      "cell_type": "code",
      "source": [
        "plt.figure(figsize=(25,5))\n",
        "plt.subplot(1, 2, 1)\n",
        "plt.pie(data1[\"number\"],autopct = '%0.0f%%',labels=(\"WOMAN\",\"MAN\"), shadow=True,explode=[0.1,0])\n",
        "plt.title(\"NUMBER OF NON-DEADS BY GENDER\")\n",
        "plt.subplot(1, 2, 2)\n",
        "plt.pie(data2[\"number\"],autopct = '%0.0f%%',labels=(\"WOMAN\",\"MAN\"), shadow=True,explode=[0.1,0],startangle=-50)\n",
        "plt.title(\"NUMBER OF DEATH BY GENDER\")\n",
        "plt.show()"
      ],
      "metadata": {
        "colab": {
          "base_uri": "https://localhost:8080/",
          "height": 195
        },
        "id": "JojCuaK0FxCL",
        "outputId": "fff9696d-4b69-4955-8d18-715b4d0d9a4e"
      },
      "execution_count": 16,
      "outputs": [
        {
          "output_type": "display_data",
          "data": {
            "text/plain": [
              "<Figure size 1800x360 with 2 Axes>"
            ],
            "image/png": "[encoded data removed]"
          },
          "metadata": {}
        }
      ]
    },
    {
      "cell_type": "markdown",
      "source": [
        " PEOPLE WHO HAVE BOTH HEART ATTACK AND DIE OF HEART ATTACK ARE MOSTLY MEN."
      ],
      "metadata": {
        "id": "pbrcvVaLF_35"
      }
    },
    {
      "cell_type": "code",
      "source": [
        "data4=data.groupby([\"cp\"]).sum().reset_index()[[\"cp\",\"number\"]]\n",
        "data5=data[data[\"output\"]==1].groupby([\"cp\"]).sum().reset_index()[[\"cp\",\"number\"]]\n",
        "plt.figure(figsize=(10,10))\n",
        "plt.subplot(1,2,1)\n",
        "sns.barplot(x=[\"Typical Angina\",\"Atypical Angina\",\"Non-anginal Pain\",\"Asymptomatic\"],y=data4.number,data=data4)\n",
        "plt.xlabel(\"CP TYPE\")\n",
        "plt.title(\"NUMBER OF HEART ATTACK BY CP TYPE\")\n",
        "plt.subplot(1,2,2)\n",
        "sns.barplot(x=[\"Typical Angina\",\"Atypical Angina\",\"Non-anginal Pain\",\"Asymptomatic\"],y=data5.number,data=data5)\n",
        "plt.xlabel(\"CP TYPE\")\n",
        "plt.title(\"NUMBER OF DEATH BY CP TYPE\")\n",
        "plt.show()"
      ],
      "metadata": {
        "colab": {
          "base_uri": "https://localhost:8080/",
          "height": 621
        },
        "id": "tCvZetvGGAo6",
        "outputId": "275c2fce-79b8-4b9d-cde1-5ac91939371e"
      },
      "execution_count": 17,
      "outputs": [
        {
          "output_type": "display_data",
          "data": {
            "text/plain": [
              "<Figure size 720x720 with 2 Axes>"
            ],
            "image/png": "[encoded data removed]"
          },
          "metadata": {
            "needs_background": "light"
          }
        }
      ]
    },
    {
      "cell_type": "code",
      "source": [
        "data6=round(data5.number/data4.number*100,0)\n",
        "data6=data6.reset_index()\n",
        "plt.figure(figsize=(10,10))\n",
        "sns.barplot(x=[\"Typical Angina\",\"Atypical Angina\",\"Non-anginal Pain\",\"Asymptomatic\"],y=data6[\"number\"])\n",
        "plt.title(\"NUMBER OF DEATH BY PERCENT\")\n",
        "plt.show()"
      ],
      "metadata": {
        "colab": {
          "base_uri": "https://localhost:8080/",
          "height": 607
        },
        "id": "zlR6Sdr_GQqD",
        "outputId": "5c86afc1-015f-48bb-dbc9-d26dc4263eff"
      },
      "execution_count": 18,
      "outputs": [
        {
          "output_type": "display_data",
          "data": {
            "text/plain": [
              "<Figure size 720x720 with 1 Axes>"
            ],
            "image/png": "[encoded data removed]"
          },
          "metadata": {
            "needs_background": "light"
          }
        }
      ]
    },
    {
      "cell_type": "code",
      "source": [
        "plt.figure(figsize=(10,10))\n",
        "sns.heatmap(data.corr(),annot=True)\n",
        "plt.show()"
      ],
      "metadata": {
        "colab": {
          "base_uri": "https://localhost:8080/",
          "height": 629
        },
        "id": "jasGFFHlGZB9",
        "outputId": "5b453aae-1103-4428-84ff-bb8dbe158fec"
      },
      "execution_count": 19,
      "outputs": [
        {
          "output_type": "display_data",
          "data": {
            "text/plain": [
              "<Figure size 720x720 with 2 Axes>"
            ],
            "image/png": "[encoded data removed]"
          },
          "metadata": {
            "needs_background": "light"
          }
        }
      ]
    },
    {
      "cell_type": "markdown",
      "source": [
        "THIS CORRELATION MATRIX SHOWS THAT HEART ATTACK DEPENDS ON cp(CHEST PAIN),thalachh(MAXIMUM HEART RATE ACHIEVED),slp(Slope)"
      ],
      "metadata": {
        "id": "X53ZzqAdGmEq"
      }
    },
    {
      "cell_type": "markdown",
      "source": [
        "#### 3.MACHINE LEARNING"
      ],
      "metadata": {
        "id": "2I8Hw-g_GqbU"
      }
    },
    {
      "cell_type": "code",
      "source": [
        "from sklearn.model_selection import train_test_split\n",
        "x=data.iloc[:,0:-2]\n",
        "y=data.iloc[:,-2]\n",
        "x_train,x_test,y_train,y_test=train_test_split(x,y,random_state=42,test_size=0.25)"
      ],
      "metadata": {
        "id": "jie6wXKaGmw3"
      },
      "execution_count": 20,
      "outputs": []
    },
    {
      "cell_type": "code",
      "source": [
        "from sklearn.preprocessing import StandardScaler\n",
        "x_train=StandardScaler().fit_transform(x_train)\n",
        "x_test=StandardScaler().fit_transform(x_test)"
      ],
      "metadata": {
        "id": "HM1v-jLIH_Wp"
      },
      "execution_count": 21,
      "outputs": []
    },
    {
      "cell_type": "code",
      "source": [
        "from sklearn.model_selection import GridSearchCV\n",
        "from sklearn.metrics import accuracy_score"
      ],
      "metadata": {
        "id": "M1t1qVzpIH32"
      },
      "execution_count": 22,
      "outputs": []
    },
    {
      "cell_type": "markdown",
      "source": [
        "#### 3). Support Vector Machine"
      ],
      "metadata": {
        "id": "xdwmW68eIOLQ"
      }
    },
    {
      "cell_type": "code",
      "source": [
        "from sklearn.svm import SVC\n",
        "svc=SVC(C=1,gamma=0.05,kernel=\"rbf\",random_state=42)\n",
        "svc.fit(x_train,y_train)\n",
        "print(\"Accuracy score before the GridSearch method\",accuracy_score(y_test,svc.predict(x_test)))\n",
        "SVC=SVC()\n",
        "parameters = {\"kernel\":('rbf','linear'),\"C\":np.arange(1,5,1),'gamma':[0.00001,0.005,0.01,0.05,0.1,0.5]}\n",
        "GSCV=GridSearchCV(SVC,parameters)\n",
        "GSCV.fit(x_train,y_train)\n",
        "y_pred = GSCV.predict(x_test)\n",
        "print(\"Accuracy score after the GridSearch method\",accuracy_score(y_test,y_pred))\n",
        "SVC_SCORE=(accuracy_score(y_test,y_pred))\n",
        "print(\"best parameters\",GSCV.best_params_)\n"
      ],
      "metadata": {
        "colab": {
          "base_uri": "https://localhost:8080/",
          "height": 0
        },
        "id": "aPHDMVGfIVWy",
        "outputId": "b07fa8e5-8f24-4565-9428-a506201ae79b"
      },
      "execution_count": 23,
      "outputs": [
        {
          "output_type": "stream",
          "name": "stdout",
          "text": [
            "Accuracy score before the GridSearch method 0.8552631578947368\n",
            "Accuracy score after the GridSearch method 0.8552631578947368\n",
            "best parameters {'C': 3, 'gamma': 0.01, 'kernel': 'rbf'}\n"
          ]
        }
      ]
    },
    {
      "cell_type": "markdown",
      "source": [
        "#### 3.2) Random Forest"
      ],
      "metadata": {
        "id": "G7iZ3ziwIdou"
      }
    },
    {
      "cell_type": "code",
      "source": [
        "from sklearn.ensemble import RandomForestClassifier\n",
        "RFC=RandomForestClassifier(random_state=42)\n",
        "RFC.fit(x_train,y_train)\n",
        "print(\"Accuracy score before the GridSearch method\",accuracy_score(y_test,RFC.predict(x_test)))\n",
        "\n",
        "rfc=RandomForestClassifier(random_state=42)\n",
        "parameters = {\"criterion\":[\"entropy\",\"gini\"],\"n_estimators\":np.arange(1,50,1)}\n",
        "GSCV=GridSearchCV(rfc,parameters)\n",
        "GSCV.fit(x_train,y_train)\n",
        "y_pred=GSCV.predict(x_test)\n",
        "print(\"Accuracy score after the GridSearch method\",accuracy_score(y_test,y_pred))\n",
        "RandomForest_SCORE=(accuracy_score(y_test,y_pred))\n",
        "print(\"best parameters\",GSCV.best_params_)\n"
      ],
      "metadata": {
        "colab": {
          "base_uri": "https://localhost:8080/",
          "height": 0
        },
        "id": "Sedxt4LLIiEv",
        "outputId": "61996a95-b546-4bf9-8156-44228d6726a5"
      },
      "execution_count": 24,
      "outputs": [
        {
          "output_type": "stream",
          "name": "stdout",
          "text": [
            "Accuracy score before the GridSearch method 0.8157894736842105\n",
            "Accuracy score after the GridSearch method 0.8421052631578947\n",
            "best parameters {'criterion': 'gini', 'n_estimators': 14}\n"
          ]
        }
      ]
    },
    {
      "cell_type": "markdown",
      "source": [
        "#### \n",
        "3.3) GradientBoosting\n"
      ],
      "metadata": {
        "id": "i0CEOp87JI47"
      }
    },
    {
      "cell_type": "code",
      "source": [
        "from sklearn.ensemble import GradientBoostingClassifier\n",
        "GBC=GradientBoostingClassifier(random_state=42)\n",
        "GBC.fit(x_train,y_train)\n",
        "print(\"Accuracy score before the GridSearch method\",accuracy_score(y_test,GBC.predict(x_test)))\n",
        "\n",
        "rfc=GradientBoostingClassifier(random_state=42)\n",
        "parameters = {\"criterion\":[\"squared_error\",\"mse\"],\"n_estimators\":np.arange(1,50,1)}\n",
        "GSCV=GridSearchCV(rfc,parameters)\n",
        "GSCV.fit(x_train,y_train)\n",
        "y_pred=GSCV.predict(x_test)\n",
        "print(\"Accuracy score after the GridSearch method\",accuracy_score(y_test,y_pred))\n",
        "GradientBoosting_SCORE=(accuracy_score(y_test,y_pred))\n",
        "print(\"best parameters\",GSCV.best_params_)"
      ],
      "metadata": {
        "colab": {
          "base_uri": "https://localhost:8080/",
          "height": 0
        },
        "id": "s6mtW4d2JH2Z",
        "outputId": "754c85ff-c53a-4f75-dda4-3893cb1d7fee"
      },
      "execution_count": 25,
      "outputs": [
        {
          "output_type": "stream",
          "name": "stdout",
          "text": [
            "Accuracy score before the GridSearch method 0.7763157894736842\n",
            "Accuracy score after the GridSearch method 0.8421052631578947\n",
            "best parameters {'criterion': 'squared_error', 'n_estimators': 39}\n"
          ]
        }
      ]
    },
    {
      "cell_type": "markdown",
      "source": [
        "#### 3.4) XGBOOST"
      ],
      "metadata": {
        "id": "JutxGEGzJQsO"
      }
    },
    {
      "cell_type": "code",
      "source": [
        "from xgboost import XGBClassifier\n",
        "XGB=XGBClassifier(random_state=42)\n",
        "XGB.fit(x_train,y_train)\n",
        "y_pred=XGB.predict(x_test)\n",
        "print(\"Accuracy score\",accuracy_score(y_test,y_pred))\n",
        "XGBClassifier_SCORE=(accuracy_score(y_test,y_pred))"
      ],
      "metadata": {
        "colab": {
          "base_uri": "https://localhost:8080/",
          "height": 0
        },
        "id": "X4kzB7m4JZTq",
        "outputId": "7140c58c-b778-4f20-c0d7-cdbd100b7259"
      },
      "execution_count": 26,
      "outputs": [
        {
          "output_type": "stream",
          "name": "stdout",
          "text": [
            "Accuracy score 0.8289473684210527\n"
          ]
        }
      ]
    },
    {
      "cell_type": "code",
      "source": [
        "!pip3 install catboost"
      ],
      "metadata": {
        "colab": {
          "base_uri": "https://localhost:8080/",
          "height": 0
        },
        "id": "nhGpjXSWJ33q",
        "outputId": "107cd3a4-3198-4718-afb8-34df79b4344c"
      },
      "execution_count": 27,
      "outputs": [
        {
          "output_type": "stream",
          "name": "stdout",
          "text": [
            "Looking in indexes: https://pypi.org/simple, https://us-python.pkg.dev/colab-wheels/public/simple/\n",
            "Collecting catboost\n",
            "  Downloading catboost-1.0.6-cp37-none-manylinux1_x86_64.whl (76.6 MB)\n",
            "\u001b[K     |████████████████████████████████| 76.6 MB 1.2 MB/s \n",
            "\u001b[?25hRequirement already satisfied: six in /usr/local/lib/python3.7/dist-packages (from catboost) (1.15.0)\n",
            "Requirement already satisfied: graphviz in /usr/local/lib/python3.7/dist-packages (from catboost) (0.10.1)\n",
            "Requirement already satisfied: scipy in /usr/local/lib/python3.7/dist-packages (from catboost) (1.4.1)\n",
            "Requirement already satisfied: matplotlib in /usr/local/lib/python3.7/dist-packages (from catboost) (3.2.2)\n",
            "Requirement already satisfied: numpy>=1.16.0 in /usr/local/lib/python3.7/dist-packages (from catboost) (1.21.6)\n",
            "Requirement already satisfied: pandas>=0.24.0 in /usr/local/lib/python3.7/dist-packages (from catboost) (1.3.5)\n",
            "Requirement already satisfied: plotly in /usr/local/lib/python3.7/dist-packages (from catboost) (5.5.0)\n",
            "Requirement already satisfied: pytz>=2017.3 in /usr/local/lib/python3.7/dist-packages (from pandas>=0.24.0->catboost) (2022.1)\n",
            "Requirement already satisfied: python-dateutil>=2.7.3 in /usr/local/lib/python3.7/dist-packages (from pandas>=0.24.0->catboost) (2.8.2)\n",
            "Requirement already satisfied: kiwisolver>=1.0.1 in /usr/local/lib/python3.7/dist-packages (from matplotlib->catboost) (1.4.2)\n",
            "Requirement already satisfied: pyparsing!=2.0.4,!=2.1.2,!=2.1.6,>=2.0.1 in /usr/local/lib/python3.7/dist-packages (from matplotlib->catboost) (3.0.9)\n",
            "Requirement already satisfied: cycler>=0.10 in /usr/local/lib/python3.7/dist-packages (from matplotlib->catboost) (0.11.0)\n",
            "Requirement already satisfied: typing-extensions in /usr/local/lib/python3.7/dist-packages (from kiwisolver>=1.0.1->matplotlib->catboost) (4.2.0)\n",
            "Requirement already satisfied: tenacity>=6.2.0 in /usr/local/lib/python3.7/dist-packages (from plotly->catboost) (8.0.1)\n",
            "Installing collected packages: catboost\n",
            "Successfully installed catboost-1.0.6\n"
          ]
        }
      ]
    },
    {
      "cell_type": "markdown",
      "source": [
        "#### 3.5) CATBOOST"
      ],
      "metadata": {
        "id": "b0y33vZgJiqA"
      }
    },
    {
      "cell_type": "code",
      "source": [
        "from catboost import CatBoostClassifier\n",
        "CB=XGBClassifier(random_state=42)\n",
        "CB.fit(x_train,y_train)\n",
        "y_pred=CB.predict(x_test)\n",
        "print(\"Accuracy score\",accuracy_score(y_test,y_pred))\n",
        "CatBoost_SCORE=(accuracy_score(y_test,y_pred))"
      ],
      "metadata": {
        "colab": {
          "base_uri": "https://localhost:8080/",
          "height": 0
        },
        "id": "d12qGRwWJ_fC",
        "outputId": "6551b84f-aaca-4100-ce08-c74df779dcbb"
      },
      "execution_count": 28,
      "outputs": [
        {
          "output_type": "stream",
          "name": "stdout",
          "text": [
            "Accuracy score 0.8289473684210527\n"
          ]
        }
      ]
    },
    {
      "cell_type": "markdown",
      "source": [
        "#### 4.) DeepLearning"
      ],
      "metadata": {
        "id": "iXq-eFimKJv_"
      }
    },
    {
      "cell_type": "markdown",
      "source": [
        "#### 4.1) Models"
      ],
      "metadata": {
        "id": "RsbB0mvcKP4u"
      }
    },
    {
      "cell_type": "code",
      "source": [
        "from tensorflow.keras.models import Sequential\n",
        "from tensorflow.keras.layers import Dense"
      ],
      "metadata": {
        "id": "8c0dBL32KN-I"
      },
      "execution_count": 30,
      "outputs": []
    },
    {
      "cell_type": "code",
      "source": [
        "#WE USED sigmoid and binary_crossentropy BECAUSE OF OUR OUTPUT CONSISTED OF 0-1\n",
        "model=Sequential()\n",
        "model.add(Dense(13,activation=\"relu\"))\n",
        "model.add(Dense(10,activation=\"relu\"))\n",
        "model.add(Dense(8,activation=\"relu\"))\n",
        "model.add(Dense(8,activation=\"relu\"))\n",
        "model.add(Dense(1,activation=\"sigmoid\"))\n",
        "model.compile(optimizer=\"adam\",loss=\"binary_crossentropy\",metrics=['accuracy']) \n"
      ],
      "metadata": {
        "id": "-Jt2Qa0PYdw0"
      },
      "execution_count": 31,
      "outputs": []
    },
    {
      "cell_type": "code",
      "source": [
        "history=model.fit(x=x_train,y=y_train,validation_data=(x_test,y_test),epochs=100,verbose=0)"
      ],
      "metadata": {
        "id": "5jaQIuMIYo75"
      },
      "execution_count": 32,
      "outputs": []
    },
    {
      "cell_type": "code",
      "source": [
        "y_pred=model.predict(x_test)\n",
        "y_pred=(y_pred>0.5).astype(int)\n",
        "from sklearn.metrics import  confusion_matrix\n",
        "print(confusion_matrix(y_pred,y_test),\"ysdaaadddddd\")\n",
        "print(\"Classification on Depp Learning Accuracy score\",accuracy_score(y_test,y_pred))\n",
        "Deep_Learning_Score=accuracy_score(y_test,y_pred)"
      ],
      "metadata": {
        "colab": {
          "base_uri": "https://localhost:8080/",
          "height": 0
        },
        "id": "hS0PLcQOYtWj",
        "outputId": "17ff3c2b-a3c2-4da4-b001-f533a814498e"
      },
      "execution_count": 33,
      "outputs": [
        {
          "output_type": "stream",
          "name": "stdout",
          "text": [
            "[[28  7]\n",
            " [ 7 34]] ysdaaadddddd\n",
            "Classification on Depp Learning Accuracy score 0.8157894736842105\n"
          ]
        }
      ]
    },
    {
      "cell_type": "markdown",
      "source": [
        "#### 4.2 OVER FITTING PROBLEM\n",
        "Is there overfitting on our deep learning model?"
      ],
      "metadata": {
        "id": "dmHdqkijY0Gy"
      }
    },
    {
      "cell_type": "code",
      "source": [
        "graf=pd.DataFrame(history.history)\n",
        "graf=graf.drop([\"val_accuracy\",\"accuracy\"],axis=1)\n",
        "graf.plot()"
      ],
      "metadata": {
        "colab": {
          "base_uri": "https://localhost:8080/",
          "height": 282
        },
        "id": "vmJKUY2EY3YF",
        "outputId": "294ac21d-2e9b-43fd-8d35-3c574602c9f1"
      },
      "execution_count": 34,
      "outputs": [
        {
          "output_type": "execute_result",
          "data": {
            "text/plain": [
              "<matplotlib.axes._subplots.AxesSubplot at 0x7f9255e05110>"
            ]
          },
          "metadata": {},
          "execution_count": 34
        },
        {
          "output_type": "display_data",
          "data": {
            "text/plain": [
              "<Figure size 432x288 with 1 Axes>"
            ],
            "image/png": "[encoded data removed]"
          },
          "metadata": {
            "needs_background": "light"
          }
        }
      ]
    },
    {
      "cell_type": "code",
      "source": [
        "from tensorflow.keras.callbacks import EarlyStopping\n",
        "earlystopping=EarlyStopping(monitor=\"val_loss\",mode=\"min\",verbose=1,patience=25)"
      ],
      "metadata": {
        "id": "kYw9r8T5ZUfo"
      },
      "execution_count": 35,
      "outputs": []
    },
    {
      "cell_type": "code",
      "source": [
        "model=Sequential()\n",
        "model.add(Dense(13,activation=\"relu\"))\n",
        "model.add(Dense(10,activation=\"relu\"))\n",
        "model.add(Dense(8,activation=\"relu\"))\n",
        "model.add(Dense(8,activation=\"relu\"))\n",
        "model.add(Dense(1,activation=\"sigmoid\"))\n",
        "model.compile(optimizer=\"adam\",loss=\"binary_crossentropy\",metrics=['accuracy'])"
      ],
      "metadata": {
        "id": "lhQvRmbQZbr7"
      },
      "execution_count": 36,
      "outputs": []
    },
    {
      "cell_type": "code",
      "source": [
        "history1=model.fit(x=x_train,y=y_train,validation_data=(x_test,y_test),epochs=100,verbose=1,callbacks=[earlystopping])"
      ],
      "metadata": {
        "colab": {
          "base_uri": "https://localhost:8080/",
          "height": 0
        },
        "id": "1p20lGluZe3P",
        "outputId": "10c12e69-1043-4215-b2a6-f3edbb598575"
      },
      "execution_count": 37,
      "outputs": [
        {
          "output_type": "stream",
          "name": "stdout",
          "text": [
            "Epoch 1/100\n",
            "8/8 [==============================] - 1s 30ms/step - loss: 0.6908 - accuracy: 0.4714 - val_loss: 0.6613 - val_accuracy: 0.4868\n",
            "Epoch 2/100\n",
            "8/8 [==============================] - 0s 8ms/step - loss: 0.6727 - accuracy: 0.5066 - val_loss: 0.6470 - val_accuracy: 0.5395\n",
            "Epoch 3/100\n",
            "8/8 [==============================] - 0s 8ms/step - loss: 0.6610 - accuracy: 0.5815 - val_loss: 0.6370 - val_accuracy: 0.6316\n",
            "Epoch 4/100\n",
            "8/8 [==============================] - 0s 8ms/step - loss: 0.6518 - accuracy: 0.6256 - val_loss: 0.6281 - val_accuracy: 0.6974\n",
            "Epoch 5/100\n",
            "8/8 [==============================] - 0s 6ms/step - loss: 0.6433 - accuracy: 0.6608 - val_loss: 0.6188 - val_accuracy: 0.7368\n",
            "Epoch 6/100\n",
            "8/8 [==============================] - 0s 7ms/step - loss: 0.6339 - accuracy: 0.6828 - val_loss: 0.6089 - val_accuracy: 0.7895\n",
            "Epoch 7/100\n",
            "8/8 [==============================] - 0s 8ms/step - loss: 0.6245 - accuracy: 0.6916 - val_loss: 0.5991 - val_accuracy: 0.8026\n",
            "Epoch 8/100\n",
            "8/8 [==============================] - 0s 6ms/step - loss: 0.6148 - accuracy: 0.7048 - val_loss: 0.5892 - val_accuracy: 0.8289\n",
            "Epoch 9/100\n",
            "8/8 [==============================] - 0s 8ms/step - loss: 0.6047 - accuracy: 0.7225 - val_loss: 0.5786 - val_accuracy: 0.8553\n",
            "Epoch 10/100\n",
            "8/8 [==============================] - 0s 9ms/step - loss: 0.5948 - accuracy: 0.7357 - val_loss: 0.5678 - val_accuracy: 0.8684\n",
            "Epoch 11/100\n",
            "8/8 [==============================] - 0s 5ms/step - loss: 0.5849 - accuracy: 0.7401 - val_loss: 0.5589 - val_accuracy: 0.8684\n",
            "Epoch 12/100\n",
            "8/8 [==============================] - 0s 6ms/step - loss: 0.5749 - accuracy: 0.7533 - val_loss: 0.5482 - val_accuracy: 0.8289\n",
            "Epoch 13/100\n",
            "8/8 [==============================] - 0s 10ms/step - loss: 0.5645 - accuracy: 0.7665 - val_loss: 0.5367 - val_accuracy: 0.8684\n",
            "Epoch 14/100\n",
            "8/8 [==============================] - 0s 7ms/step - loss: 0.5529 - accuracy: 0.7665 - val_loss: 0.5242 - val_accuracy: 0.8553\n",
            "Epoch 15/100\n",
            "8/8 [==============================] - 0s 8ms/step - loss: 0.5401 - accuracy: 0.8018 - val_loss: 0.5095 - val_accuracy: 0.8421\n",
            "Epoch 16/100\n",
            "8/8 [==============================] - 0s 8ms/step - loss: 0.5267 - accuracy: 0.7974 - val_loss: 0.4950 - val_accuracy: 0.8289\n",
            "Epoch 17/100\n",
            "8/8 [==============================] - 0s 8ms/step - loss: 0.5126 - accuracy: 0.7974 - val_loss: 0.4811 - val_accuracy: 0.8421\n",
            "Epoch 18/100\n",
            "8/8 [==============================] - 0s 6ms/step - loss: 0.4985 - accuracy: 0.8062 - val_loss: 0.4653 - val_accuracy: 0.8684\n",
            "Epoch 19/100\n",
            "8/8 [==============================] - 0s 9ms/step - loss: 0.4827 - accuracy: 0.8062 - val_loss: 0.4502 - val_accuracy: 0.8816\n",
            "Epoch 20/100\n",
            "8/8 [==============================] - 0s 6ms/step - loss: 0.4674 - accuracy: 0.8106 - val_loss: 0.4362 - val_accuracy: 0.8816\n",
            "Epoch 21/100\n",
            "8/8 [==============================] - 0s 8ms/step - loss: 0.4537 - accuracy: 0.8062 - val_loss: 0.4232 - val_accuracy: 0.8816\n",
            "Epoch 22/100\n",
            "8/8 [==============================] - 0s 9ms/step - loss: 0.4399 - accuracy: 0.8106 - val_loss: 0.4115 - val_accuracy: 0.8684\n",
            "Epoch 23/100\n",
            "8/8 [==============================] - 0s 9ms/step - loss: 0.4278 - accuracy: 0.8150 - val_loss: 0.4022 - val_accuracy: 0.8553\n",
            "Epoch 24/100\n",
            "8/8 [==============================] - 0s 9ms/step - loss: 0.4157 - accuracy: 0.8150 - val_loss: 0.3944 - val_accuracy: 0.8553\n",
            "Epoch 25/100\n",
            "8/8 [==============================] - 0s 8ms/step - loss: 0.4054 - accuracy: 0.8194 - val_loss: 0.3869 - val_accuracy: 0.8553\n",
            "Epoch 26/100\n",
            "8/8 [==============================] - 0s 6ms/step - loss: 0.3974 - accuracy: 0.8150 - val_loss: 0.3801 - val_accuracy: 0.8553\n",
            "Epoch 27/100\n",
            "8/8 [==============================] - 0s 6ms/step - loss: 0.3871 - accuracy: 0.8326 - val_loss: 0.3753 - val_accuracy: 0.8684\n",
            "Epoch 28/100\n",
            "8/8 [==============================] - 0s 6ms/step - loss: 0.3797 - accuracy: 0.8282 - val_loss: 0.3725 - val_accuracy: 0.8684\n",
            "Epoch 29/100\n",
            "8/8 [==============================] - 0s 8ms/step - loss: 0.3725 - accuracy: 0.8458 - val_loss: 0.3706 - val_accuracy: 0.8684\n",
            "Epoch 30/100\n",
            "8/8 [==============================] - 0s 7ms/step - loss: 0.3643 - accuracy: 0.8414 - val_loss: 0.3690 - val_accuracy: 0.8684\n",
            "Epoch 31/100\n",
            "8/8 [==============================] - 0s 6ms/step - loss: 0.3582 - accuracy: 0.8414 - val_loss: 0.3674 - val_accuracy: 0.8684\n",
            "Epoch 32/100\n",
            "8/8 [==============================] - 0s 8ms/step - loss: 0.3515 - accuracy: 0.8458 - val_loss: 0.3664 - val_accuracy: 0.8553\n",
            "Epoch 33/100\n",
            "8/8 [==============================] - 0s 6ms/step - loss: 0.3456 - accuracy: 0.8502 - val_loss: 0.3663 - val_accuracy: 0.8553\n",
            "Epoch 34/100\n",
            "8/8 [==============================] - 0s 7ms/step - loss: 0.3398 - accuracy: 0.8546 - val_loss: 0.3682 - val_accuracy: 0.8553\n",
            "Epoch 35/100\n",
            "8/8 [==============================] - 0s 9ms/step - loss: 0.3351 - accuracy: 0.8546 - val_loss: 0.3708 - val_accuracy: 0.8553\n",
            "Epoch 36/100\n",
            "8/8 [==============================] - 0s 8ms/step - loss: 0.3310 - accuracy: 0.8502 - val_loss: 0.3743 - val_accuracy: 0.8553\n",
            "Epoch 37/100\n",
            "8/8 [==============================] - 0s 6ms/step - loss: 0.3261 - accuracy: 0.8502 - val_loss: 0.3758 - val_accuracy: 0.8553\n",
            "Epoch 38/100\n",
            "8/8 [==============================] - 0s 9ms/step - loss: 0.3217 - accuracy: 0.8546 - val_loss: 0.3774 - val_accuracy: 0.8553\n",
            "Epoch 39/100\n",
            "8/8 [==============================] - 0s 6ms/step - loss: 0.3161 - accuracy: 0.8722 - val_loss: 0.3819 - val_accuracy: 0.8553\n",
            "Epoch 40/100\n",
            "8/8 [==============================] - 0s 6ms/step - loss: 0.3110 - accuracy: 0.8811 - val_loss: 0.3838 - val_accuracy: 0.8553\n",
            "Epoch 41/100\n",
            "8/8 [==============================] - 0s 8ms/step - loss: 0.3062 - accuracy: 0.8811 - val_loss: 0.3822 - val_accuracy: 0.8553\n",
            "Epoch 42/100\n",
            "8/8 [==============================] - 0s 8ms/step - loss: 0.3042 - accuracy: 0.8767 - val_loss: 0.3812 - val_accuracy: 0.8553\n",
            "Epoch 43/100\n",
            "8/8 [==============================] - 0s 9ms/step - loss: 0.3029 - accuracy: 0.8722 - val_loss: 0.3825 - val_accuracy: 0.8553\n",
            "Epoch 44/100\n",
            "8/8 [==============================] - 0s 6ms/step - loss: 0.2993 - accuracy: 0.8811 - val_loss: 0.3799 - val_accuracy: 0.8553\n",
            "Epoch 45/100\n",
            "8/8 [==============================] - 0s 10ms/step - loss: 0.2943 - accuracy: 0.8767 - val_loss: 0.3793 - val_accuracy: 0.8553\n",
            "Epoch 46/100\n",
            "8/8 [==============================] - 0s 5ms/step - loss: 0.2901 - accuracy: 0.8811 - val_loss: 0.3815 - val_accuracy: 0.8553\n",
            "Epoch 47/100\n",
            "8/8 [==============================] - 0s 6ms/step - loss: 0.2865 - accuracy: 0.8899 - val_loss: 0.3841 - val_accuracy: 0.8553\n",
            "Epoch 48/100\n",
            "8/8 [==============================] - 0s 6ms/step - loss: 0.2829 - accuracy: 0.8943 - val_loss: 0.3885 - val_accuracy: 0.8553\n",
            "Epoch 49/100\n",
            "8/8 [==============================] - 0s 6ms/step - loss: 0.2780 - accuracy: 0.8987 - val_loss: 0.3894 - val_accuracy: 0.8553\n",
            "Epoch 50/100\n",
            "8/8 [==============================] - 0s 8ms/step - loss: 0.2757 - accuracy: 0.9075 - val_loss: 0.3920 - val_accuracy: 0.8553\n",
            "Epoch 51/100\n",
            "8/8 [==============================] - 0s 7ms/step - loss: 0.2740 - accuracy: 0.8987 - val_loss: 0.3934 - val_accuracy: 0.8553\n",
            "Epoch 52/100\n",
            "8/8 [==============================] - 0s 6ms/step - loss: 0.2680 - accuracy: 0.9031 - val_loss: 0.3931 - val_accuracy: 0.8553\n",
            "Epoch 53/100\n",
            "8/8 [==============================] - 0s 6ms/step - loss: 0.2680 - accuracy: 0.8943 - val_loss: 0.3935 - val_accuracy: 0.8158\n",
            "Epoch 54/100\n",
            "8/8 [==============================] - 0s 6ms/step - loss: 0.2675 - accuracy: 0.8899 - val_loss: 0.3947 - val_accuracy: 0.8158\n",
            "Epoch 55/100\n",
            "8/8 [==============================] - 0s 6ms/step - loss: 0.2621 - accuracy: 0.8943 - val_loss: 0.3942 - val_accuracy: 0.8289\n",
            "Epoch 56/100\n",
            "8/8 [==============================] - 0s 8ms/step - loss: 0.2575 - accuracy: 0.8899 - val_loss: 0.3965 - val_accuracy: 0.8553\n",
            "Epoch 57/100\n",
            "8/8 [==============================] - 0s 7ms/step - loss: 0.2554 - accuracy: 0.8943 - val_loss: 0.3992 - val_accuracy: 0.8553\n",
            "Epoch 58/100\n",
            "8/8 [==============================] - 0s 9ms/step - loss: 0.2527 - accuracy: 0.8899 - val_loss: 0.4024 - val_accuracy: 0.8553\n",
            "Epoch 58: early stopping\n"
          ]
        }
      ]
    },
    {
      "cell_type": "code",
      "source": [
        "epoch=len(history1.epoch)"
      ],
      "metadata": {
        "id": "m6g51hXUbOCi"
      },
      "execution_count": 38,
      "outputs": []
    },
    {
      "cell_type": "code",
      "source": [
        "model=Sequential()\n",
        "model.add(Dense(13,activation=\"relu\"))\n",
        "model.add(Dense(10,activation=\"relu\"))\n",
        "model.add(Dense(8,activation=\"relu\"))\n",
        "model.add(Dense(8,activation=\"relu\"))\n",
        "model.add(Dense(1,activation=\"sigmoid\"))\n",
        "model.compile(optimizer=\"adam\",loss=\"binary_crossentropy\",metrics=['accuracy'])"
      ],
      "metadata": {
        "id": "zvYgmtVPbTHE"
      },
      "execution_count": 39,
      "outputs": []
    },
    {
      "cell_type": "code",
      "source": [
        "history2=model.fit(x=x_train,y=y_train,validation_data=(x_test,y_test),epochs=epoch,verbose=0)\n",
        "y_pred=model.predict(x_test)\n",
        "y_pred=(y_pred>0.10).astype(int)\n",
        "from sklearn.metrics import  confusion_matrix\n",
        "print(confusion_matrix(y_pred,y_test),\"ysdaaadddddd\")\n",
        "print(\"Classification on Depp Learning Accuracy score\",accuracy_score(y_test,y_pred))\n",
        "Deep_Learning_Score=accuracy_score(y_test,y_pred)"
      ],
      "metadata": {
        "colab": {
          "base_uri": "https://localhost:8080/"
        },
        "id": "wTas2ZUNbXI1",
        "outputId": "83a3e3f2-cdee-465e-d1b7-08fab9300ca2"
      },
      "execution_count": 41,
      "outputs": [
        {
          "output_type": "stream",
          "name": "stdout",
          "text": [
            "[[24  4]\n",
            " [11 37]] ysdaaadddddd\n",
            "Classification on Depp Learning Accuracy score 0.8026315789473685\n"
          ]
        }
      ]
    },
    {
      "cell_type": "code",
      "source": [
        "graf2=pd.DataFrame(history2.history)\n",
        "graf2=graf2.drop([\"val_accuracy\",\"accuracy\"],axis=1)\n",
        "graf2.plot()"
      ],
      "metadata": {
        "colab": {
          "base_uri": "https://localhost:8080/",
          "height": 282
        },
        "id": "QwFB0MZlbl-s",
        "outputId": "90e23819-ec30-40d8-f514-f971cac21657"
      },
      "execution_count": 42,
      "outputs": [
        {
          "output_type": "execute_result",
          "data": {
            "text/plain": [
              "<matplotlib.axes._subplots.AxesSubplot at 0x7f9255908f90>"
            ]
          },
          "metadata": {},
          "execution_count": 42
        },
        {
          "output_type": "display_data",
          "data": {
            "text/plain": [
              "<Figure size 432x288 with 1 Axes>"
            ],
            "image/png": "[encoded data removed]"
          },
          "metadata": {
            "needs_background": "light"
          }
        }
      ]
    },
    {
      "cell_type": "markdown",
      "source": [
        "#### 5.CLASSIFICATION CONCLUSIONS(MACHINE LEARNING MODELS VS DEEP LEARNING MODEL)"
      ],
      "metadata": {
        "id": "2Ubn-qRebrIf"
      }
    },
    {
      "cell_type": "code",
      "source": [
        "df = pd.DataFrame(data =(SVC_SCORE,RandomForest_SCORE,GradientBoosting_SCORE,XGBClassifier_SCORE,CatBoost_SCORE,Deep_Learning_Score),index = ['Support Vector Machine','Random Forest','Gradient Boosting','XGBoost','CatBoost',\"Deep Learning\"], columns = ['Score'])\n",
        "df"
      ],
      "metadata": {
        "colab": {
          "base_uri": "https://localhost:8080/",
          "height": 237
        },
        "id": "Xoe1Wp9Jbsyh",
        "outputId": "a57402b2-ee2e-476c-e0f9-fe302f90e715"
      },
      "execution_count": 43,
      "outputs": [
        {
          "output_type": "execute_result",
          "data": {
            "text/plain": [
              "                           Score\n",
              "Support Vector Machine  0.855263\n",
              "Random Forest           0.842105\n",
              "Gradient Boosting       0.842105\n",
              "XGBoost                 0.828947\n",
              "CatBoost                0.828947\n",
              "Deep Learning           0.802632"
            ],
            "text/html": [
              "\n",
              "  <div id=\"df-a475b7b9-cd15-4009-9105-5c33db25c8c9\">\n",
              "    <div class=\"colab-df-container\">\n",
              "      <div>\n",
              "<style scoped>\n",
              "    .dataframe tbody tr th:only-of-type {\n",
              "        vertical-align: middle;\n",
              "    }\n",
              "\n",
              "    .dataframe tbody tr th {\n",
              "        vertical-align: top;\n",
              "    }\n",
              "\n",
              "    .dataframe thead th {\n",
              "        text-align: right;\n",
              "    }\n",
              "</style>\n",
              "<table border=\"1\" class=\"dataframe\">\n",
              "  <thead>\n",
              "    <tr style=\"text-align: right;\">\n",
              "      <th></th>\n",
              "      <th>Score</th>\n",
              "    </tr>\n",
              "  </thead>\n",
              "  <tbody>\n",
              "    <tr>\n",
              "      <th>Support Vector Machine</th>\n",
              "      <td>0.855263</td>\n",
              "    </tr>\n",
              "    <tr>\n",
              "      <th>Random Forest</th>\n",
              "      <td>0.842105</td>\n",
              "    </tr>\n",
              "    <tr>\n",
              "      <th>Gradient Boosting</th>\n",
              "      <td>0.842105</td>\n",
              "    </tr>\n",
              "    <tr>\n",
              "      <th>XGBoost</th>\n",
              "      <td>0.828947</td>\n",
              "    </tr>\n",
              "    <tr>\n",
              "      <th>CatBoost</th>\n",
              "      <td>0.828947</td>\n",
              "    </tr>\n",
              "    <tr>\n",
              "      <th>Deep Learning</th>\n",
              "      <td>0.802632</td>\n",
              "    </tr>\n",
              "  </tbody>\n",
              "</table>\n",
              "</div>\n",
              "      <button class=\"colab-df-convert\" onclick=\"convertToInteractive('df-a475b7b9-cd15-4009-9105-5c33db25c8c9')\"\n",
              "              title=\"Convert this dataframe to an interactive table.\"\n",
              "              style=\"display:none;\">\n",
              "        \n",
              "  <svg xmlns=\"http://www.w3.org/2000/svg\" height=\"24px\"viewBox=\"0 0 24 24\"\n",
              "       width=\"24px\">\n",
              "    <path d=\"M0 0h24v24H0V0z\" fill=\"none\"/>\n",
              "    <path d=\"M18.56 5.44l.94 2.06.94-2.06 2.06-.94-2.06-.94-.94-2.06-.94 2.06-2.06.94zm-11 1L8.5 8.5l.94-2.06 2.06-.94-2.06-.94L8.5 2.5l-.94 2.06-2.06.94zm10 10l.94 2.06.94-2.06 2.06-.94-2.06-.94-.94-2.06-.94 2.06-2.06.94z\"/><path d=\"M17.41 7.96l-1.37-1.37c-.4-.4-.92-.59-1.43-.59-.52 0-1.04.2-1.43.59L10.3 9.45l-7.72 7.72c-.78.78-.78 2.05 0 2.83L4 21.41c.39.39.9.59 1.41.59.51 0 1.02-.2 1.41-.59l7.78-7.78 2.81-2.81c.8-.78.8-2.07 0-2.86zM5.41 20L4 18.59l7.72-7.72 1.47 1.35L5.41 20z\"/>\n",
              "  </svg>\n",
              "      </button>\n",
              "      \n",
              "  <style>\n",
              "    .colab-df-container {\n",
              "      display:flex;\n",
              "      flex-wrap:wrap;\n",
              "      gap: 12px;\n",
              "    }\n",
              "\n",
              "    .colab-df-convert {\n",
              "      background-color: #E8F0FE;\n",
              "      border: none;\n",
              "      border-radius: 50%;\n",
              "      cursor: pointer;\n",
              "      display: none;\n",
              "      fill: #1967D2;\n",
              "      height: 32px;\n",
              "      padding: 0 0 0 0;\n",
              "      width: 32px;\n",
              "    }\n",
              "\n",
              "    .colab-df-convert:hover {\n",
              "      background-color: #E2EBFA;\n",
              "      box-shadow: 0px 1px 2px rgba(60, 64, 67, 0.3), 0px 1px 3px 1px rgba(60, 64, 67, 0.15);\n",
              "      fill: #174EA6;\n",
              "    }\n",
              "\n",
              "    [theme=dark] .colab-df-convert {\n",
              "      background-color: #3B4455;\n",
              "      fill: #D2E3FC;\n",
              "    }\n",
              "\n",
              "    [theme=dark] .colab-df-convert:hover {\n",
              "      background-color: #434B5C;\n",
              "      box-shadow: 0px 1px 3px 1px rgba(0, 0, 0, 0.15);\n",
              "      filter: drop-shadow(0px 1px 2px rgba(0, 0, 0, 0.3));\n",
              "      fill: #FFFFFF;\n",
              "    }\n",
              "  </style>\n",
              "\n",
              "      <script>\n",
              "        const buttonEl =\n",
              "          document.querySelector('#df-a475b7b9-cd15-4009-9105-5c33db25c8c9 button.colab-df-convert');\n",
              "        buttonEl.style.display =\n",
              "          google.colab.kernel.accessAllowed ? 'block' : 'none';\n",
              "\n",
              "        async function convertToInteractive(key) {\n",
              "          const element = document.querySelector('#df-a475b7b9-cd15-4009-9105-5c33db25c8c9');\n",
              "          const dataTable =\n",
              "            await google.colab.kernel.invokeFunction('convertToInteractive',\n",
              "                                                     [key], {});\n",
              "          if (!dataTable) return;\n",
              "\n",
              "          const docLinkHtml = 'Like what you see? Visit the ' +\n",
              "            '<a target=\"_blank\" href=https://colab.research.google.com/notebooks/data_table.ipynb>data table notebook</a>'\n",
              "            + ' to learn more about interactive tables.';\n",
              "          element.innerHTML = '';\n",
              "          dataTable['output_type'] = 'display_data';\n",
              "          await google.colab.output.renderOutput(dataTable, element);\n",
              "          const docLink = document.createElement('div');\n",
              "          docLink.innerHTML = docLinkHtml;\n",
              "          element.appendChild(docLink);\n",
              "        }\n",
              "      </script>\n",
              "    </div>\n",
              "  </div>\n",
              "  "
            ]
          },
          "metadata": {},
          "execution_count": 43
        }
      ]
    },
    {
      "cell_type": "markdown",
      "source": [
        "WE CAN SAY AS CONCLUSION THAT WE CAN USE FOR THIS DATA CSV MACHINE LEARNING METHOD OR DEEP LEARNING"
      ],
      "metadata": {
        "id": "bDbgW-wZb3A5"
      }
    },
    {
      "cell_type": "code",
      "source": [
        ""
      ],
      "metadata": {
        "id": "kjBhwXesb4G6"
      },
      "execution_count": null,
      "outputs": []
    }
  ]
}